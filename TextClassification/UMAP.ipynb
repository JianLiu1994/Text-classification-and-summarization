{
 "cells": [
  {
   "cell_type": "markdown",
   "metadata": {},
   "source": [
    "## Importing libaries"
   ]
  },
  {
   "cell_type": "code",
   "execution_count": 1,
   "metadata": {},
   "outputs": [],
   "source": [
    "import pandas as pd\n",
    "\n",
    "from sklearn import preprocessing \n",
    "from sklearn.utils import resample\n",
    "from sklearn.model_selection import train_test_split\n",
    "from sklearn.feature_extraction.text import CountVectorizer, TfidfVectorizer\n",
    "from sklearn.linear_model import LogisticRegression\n",
    "from sklearn.naive_bayes import MultinomialNB\n",
    "from sklearn.ensemble import RandomForestClassifier\n",
    "from sklearn import model_selection, svm\n",
    "from sklearn.metrics import accuracy_score\n",
    "from sklearn.metrics import classification_report\n",
    "from sklearn.metrics import confusion_matrix\n",
    "from sklearn import metrics, neighbors\n",
    "from sklearn.neighbors import KNeighborsClassifier\n",
    "import seaborn as sns\n",
    "from matplotlib import pyplot as plt\n",
    "%matplotlib inline\n",
    "\n",
    "import os\n",
    "os.chdir('../Preprocessing')\n",
    "from normalization import normalize_corpus\n"
   ]
  },
  {
   "cell_type": "markdown",
   "metadata": {},
   "source": [
    "## Reading the data"
   ]
  },
  {
   "cell_type": "code",
   "execution_count": 2,
   "metadata": {},
   "outputs": [
    {
     "name": "stdout",
     "output_type": "stream",
     "text": [
      "<class 'pandas.core.frame.DataFrame'>\n",
      "RangeIndex: 198125 entries, 0 to 198124\n",
      "Data columns (total 5 columns):\n",
      " #   Column      Non-Null Count   Dtype \n",
      "---  ------      --------------   ----- \n",
      " 0   Unnamed: 0  198125 non-null  int64 \n",
      " 1   url         198125 non-null  object\n",
      " 2   content     198125 non-null  object\n",
      " 3   summary     197911 non-null  object\n",
      " 4   category    198125 non-null  object\n",
      "dtypes: int64(1), object(4)\n",
      "memory usage: 7.6+ MB\n"
     ]
    }
   ],
   "source": [
    "df = pd.read_csv('../Data_collection/dataset.csv')\n",
    "df.info()"
   ]
  },
  {
   "cell_type": "markdown",
   "metadata": {},
   "source": []
  },
  {
   "cell_type": "markdown",
   "metadata": {},
   "source": [
    "## Normalizing the data\n",
    "\n",
    "#### The implementation of this is available under normalization.py located in preprocessing folder"
   ]
  },
  {
   "cell_type": "code",
   "execution_count": 3,
   "metadata": {},
   "outputs": [
    {
     "data": {
      "text/html": [
       "<div>\n",
       "<style scoped>\n",
       "    .dataframe tbody tr th:only-of-type {\n",
       "        vertical-align: middle;\n",
       "    }\n",
       "\n",
       "    .dataframe tbody tr th {\n",
       "        vertical-align: top;\n",
       "    }\n",
       "\n",
       "    .dataframe thead th {\n",
       "        text-align: right;\n",
       "    }\n",
       "</style>\n",
       "<table border=\"1\" class=\"dataframe\">\n",
       "  <thead>\n",
       "    <tr style=\"text-align: right;\">\n",
       "      <th></th>\n",
       "      <th>Unnamed: 0</th>\n",
       "      <th>url</th>\n",
       "      <th>content</th>\n",
       "      <th>summary</th>\n",
       "      <th>category</th>\n",
       "      <th>filtered_content</th>\n",
       "    </tr>\n",
       "  </thead>\n",
       "  <tbody>\n",
       "    <tr>\n",
       "      <th>0</th>\n",
       "      <td>0</td>\n",
       "      <td>http://www.livemint.com/Politics/H2EvwJSK2VE6O...</td>\n",
       "      <td>Paris/London/Atlanta: Federal Reserve Bank of ...</td>\n",
       "      <td>Paris/London/Atlanta: Federal Reserve Bank of ...</td>\n",
       "      <td>b</td>\n",
       "      <td>federal reserve bank philadelphia president ch...</td>\n",
       "    </tr>\n",
       "    <tr>\n",
       "      <th>1</th>\n",
       "      <td>1</td>\n",
       "      <td>http://www.nasdaq.com/article/plosser-fed-may-...</td>\n",
       "      <td>Women Who Invest: VC Include CEO\\n\\nAbout 14% ...</td>\n",
       "      <td>Women Who Invest: VC Include CEOAbout 14% of f...</td>\n",
       "      <td>b</td>\n",
       "      <td>woman who invest vc include ceo about fund man...</td>\n",
       "    </tr>\n",
       "    <tr>\n",
       "      <th>2</th>\n",
       "      <td>2</td>\n",
       "      <td>http://www.marketwatch.com/story/feds-plosser-...</td>\n",
       "      <td>PARISn — The Federal Reserve may have to accel...</td>\n",
       "      <td>PARISn — The Federal Reserve may have to accel...</td>\n",
       "      <td>b</td>\n",
       "      <td>parisn the federal reserve may accelerate pace...</td>\n",
       "    </tr>\n",
       "    <tr>\n",
       "      <th>3</th>\n",
       "      <td>3</td>\n",
       "      <td>http://www.fxstreet.com/news/forex-news/articl...</td>\n",
       "      <td>FXStreet (Łódź) - Philadelphia Fed President C...</td>\n",
       "      <td>FXStreet (Łódź) - Philadelphia Fed President C...</td>\n",
       "      <td>b</td>\n",
       "      <td>fxstreet łódź philadelphia fed president charl...</td>\n",
       "    </tr>\n",
       "    <tr>\n",
       "      <th>4</th>\n",
       "      <td>4</td>\n",
       "      <td>http://www.iii.co.uk/news-opinion/reuters/news...</td>\n",
       "      <td>Be up to £45k better off .\\n\\nResearch shows y...</td>\n",
       "      <td>Be up to £45k better off .\\nResearch shows you...</td>\n",
       "      <td>b</td>\n",
       "      <td>be good research show could well year invest i...</td>\n",
       "    </tr>\n",
       "  </tbody>\n",
       "</table>\n",
       "</div>"
      ],
      "text/plain": [
       "   Unnamed: 0                                                url  \\\n",
       "0           0  http://www.livemint.com/Politics/H2EvwJSK2VE6O...   \n",
       "1           1  http://www.nasdaq.com/article/plosser-fed-may-...   \n",
       "2           2  http://www.marketwatch.com/story/feds-plosser-...   \n",
       "3           3  http://www.fxstreet.com/news/forex-news/articl...   \n",
       "4           4  http://www.iii.co.uk/news-opinion/reuters/news...   \n",
       "\n",
       "                                             content  \\\n",
       "0  Paris/London/Atlanta: Federal Reserve Bank of ...   \n",
       "1  Women Who Invest: VC Include CEO\\n\\nAbout 14% ...   \n",
       "2  PARISn — The Federal Reserve may have to accel...   \n",
       "3  FXStreet (Łódź) - Philadelphia Fed President C...   \n",
       "4  Be up to £45k better off .\\n\\nResearch shows y...   \n",
       "\n",
       "                                             summary category  \\\n",
       "0  Paris/London/Atlanta: Federal Reserve Bank of ...        b   \n",
       "1  Women Who Invest: VC Include CEOAbout 14% of f...        b   \n",
       "2  PARISn — The Federal Reserve may have to accel...        b   \n",
       "3  FXStreet (Łódź) - Philadelphia Fed President C...        b   \n",
       "4  Be up to £45k better off .\\nResearch shows you...        b   \n",
       "\n",
       "                                    filtered_content  \n",
       "0  federal reserve bank philadelphia president ch...  \n",
       "1  woman who invest vc include ceo about fund man...  \n",
       "2  parisn the federal reserve may accelerate pace...  \n",
       "3  fxstreet łódź philadelphia fed president charl...  \n",
       "4  be good research show could well year invest i...  "
      ]
     },
     "execution_count": 3,
     "metadata": {},
     "output_type": "execute_result"
    }
   ],
   "source": [
    "if not os.path.exists('../Data_collection/dataset_filtered.pickle'):\n",
    "    df['filtered_content'] = df['content'].apply(normalize_corpus)\n",
    "    # df.to_csv('../Data_collection/dataset_filtered.csv')\n",
    "    df.to_pickle('../Data_collection/dataset_filtered.pickle')\n",
    "else:\n",
    "    df = pd.read_pickle('../Data_collection/dataset_filtered.pickle')\n",
    "df.head()"
   ]
  },
  {
   "cell_type": "code",
   "execution_count": 4,
   "metadata": {},
   "outputs": [
    {
     "name": "stderr",
     "output_type": "stream",
     "text": [
      "/home/bml_casp15/anaconda3/envs/8735/lib/python3.6/site-packages/seaborn/_decorators.py:43: FutureWarning: Pass the following variable as a keyword arg: x. From version 0.12, the only valid positional argument will be `data`, and passing other arguments without an explicit keyword will result in an error or misinterpretation.\n",
      "  FutureWarning\n"
     ]
    },
    {
     "data": {
      "text/plain": [
       "Text(0.5, 1.0, 'Before sampling')"
      ]
     },
     "execution_count": 4,
     "metadata": {},
     "output_type": "execute_result"
    },
    {
     "data": {
      "image/png": "[encoded data removed]",
      "text/plain": [
       "<Figure size 432x288 with 1 Axes>"
      ]
     },
     "metadata": {
      "needs_background": "light"
     },
     "output_type": "display_data"
    }
   ],
   "source": [
    "# Encode labels in column 'category'.\n",
    "label_encoder = preprocessing.LabelEncoder() \n",
    "df['category']= label_encoder.fit_transform(df['category']) \n",
    "\n",
    "sns.countplot(df.category)\n",
    "plt.xlabel('Category')\n",
    "plt.ylabel('count')\n",
    "plt.title('Before sampling')"
   ]
  },
  {
   "cell_type": "code",
   "execution_count": 5,
   "metadata": {},
   "outputs": [
    {
     "name": "stderr",
     "output_type": "stream",
     "text": [
      "/home/bml_casp15/anaconda3/envs/8735/lib/python3.6/site-packages/seaborn/_decorators.py:43: FutureWarning: Pass the following variable as a keyword arg: x. From version 0.12, the only valid positional argument will be `data`, and passing other arguments without an explicit keyword will result in an error or misinterpretation.\n",
      "  FutureWarning\n"
     ]
    },
    {
     "data": {
      "text/plain": [
       "Text(0.5, 1.0, 'After sampling')"
      ]
     },
     "execution_count": 5,
     "metadata": {},
     "output_type": "execute_result"
    },
    {
     "data": {
      "image/png": "[encoded data removed]",
      "text/plain": [
       "<Figure size 432x288 with 1 Axes>"
      ]
     },
     "metadata": {
      "needs_background": "light"
     },
     "output_type": "display_data"
    }
   ],
   "source": [
    "#Sampling the data\n",
    "\n",
    "df0 = df[df.category==0]\n",
    "df1 = df[df.category==1]\n",
    "df2 = df[df.category==2]\n",
    "df3 = df[df.category==3]\n",
    "\n",
    "samples = df.category.value_counts().tolist()\n",
    "\n",
    "sample_count = samples[0]\n",
    "\n",
    "df0 = resample(df0, \n",
    "                   replace=True,   \n",
    "                   n_samples=sample_count, \n",
    "                   random_state=1130)\n",
    "df1 = resample(df1, \n",
    "                   replace=True,    \n",
    "                   n_samples=sample_count,\n",
    "                   random_state=123)\n",
    "df2 = resample(df2, \n",
    "                   replace=True,    \n",
    "                   n_samples=sample_count,\n",
    "                   random_state=123)\n",
    "df3 = resample(df3, \n",
    "                   replace=True,    \n",
    "                   n_samples=sample_count,\n",
    "                   random_state=123)\n",
    "\n",
    "\n",
    "df_sampled = pd.concat([df0,df1,df2,df3])\n",
    "\n",
    "df= df_sampled\n",
    "\n",
    "\n",
    "\n",
    "sns.countplot(df_sampled.category)\n",
    "plt.xlabel('Category')\n",
    "plt.ylabel('count')\n",
    "plt.title('After sampling')"
   ]
  },
  {
   "cell_type": "markdown",
   "metadata": {},
   "source": [
    "## Split dataset into training set and test set"
   ]
  },
  {
   "cell_type": "code",
   "execution_count": 6,
   "metadata": {},
   "outputs": [],
   "source": [
    "training_set, test_set, training_labels, test_labels = train_test_split(df[\"filtered_content\"], df[\"category\"], test_size=0.33, random_state=42)"
   ]
  },
  {
   "cell_type": "markdown",
   "metadata": {},
   "source": [
    "## Latent Semantic Analysis using Bag of words features"
   ]
  },
  {
   "cell_type": "code",
   "execution_count": 7,
   "metadata": {},
   "outputs": [
    {
     "name": "stdout",
     "output_type": "stream",
     "text": [
      "Accuracy: 29.75076500066522%\n"
     ]
    }
   ],
   "source": [
    "from sklearn.decomposition import TruncatedSVD\n",
    "from sklearn.cluster import KMeans\n",
    "from sklearn.metrics import silhouette_score\n",
    "from sklearn.manifold import TSNE\n",
    "from sklearn.preprocessing import LabelEncoder\n",
    "from nltk.corpus import stopwords\n",
    "\n",
    "stopword_list = stopwords.words('english')\n",
    "dtm = CountVectorizer(max_df=0.7, min_df=5, token_pattern=\"[a-z']+\", \n",
    "                      stop_words=stopword_list, max_features=2000) # Only top 2000 most frequently ocurring words are considered\n",
    "dtm.fit(training_set)\n",
    "\n",
    "dtm_mat = dtm.transform(test_set)\n",
    "tsvd = TruncatedSVD(n_components=200)\n",
    "tsvd.fit(dtm_mat)\n",
    "tsvd_mat = tsvd.transform(dtm_mat)\n",
    "km = KMeans(n_clusters=4, n_init=50, max_iter=1000) # Instantiate KMeans clustering\n",
    "km.fit(tsvd_mat) # Run KMeans clustering\n",
    "\n",
    "acc = metrics.accuracy_score(test_labels, km.labels_)\n",
    "print('Accuracy: {}'.format(str(acc * 100) + '%'))"
   ]
  },
  {
   "cell_type": "markdown",
   "metadata": {},
   "source": [
    "## Latent Semantic Analysis using TD-IDF features"
   ]
  },
  {
   "cell_type": "code",
   "execution_count": 8,
   "metadata": {},
   "outputs": [
    {
     "name": "stdout",
     "output_type": "stream",
     "text": [
      "Accuracy: 22.499889130338374%\n"
     ]
    }
   ],
   "source": [
    "#Tfidf \n",
    "tfidvectorizer = TfidfVectorizer(min_df=2, \n",
    "                                 ngram_range=(2,2),\n",
    "                                 smooth_idf=True,\n",
    "                                 use_idf=True)\n",
    "tfid_train_features = tfidvectorizer.fit_transform(training_set)\n",
    "\n",
    "tfid_test_features = tfidvectorizer.transform(test_set)\n",
    "\n",
    "tsvd = TruncatedSVD(n_components=200)\n",
    "tsvd.fit(tfid_test_features)\n",
    "tsvd_mat = tsvd.transform(tfid_test_features)\n",
    "km = KMeans(n_clusters=4, n_init=50, max_iter=1000) # Instantiate KMeans clustering\n",
    "km.fit(tsvd_mat) # Run KMeans clustering\n",
    "acc = metrics.accuracy_score(test_labels, km.labels_)\n",
    "print('Accuracy: {}'.format(str(acc * 100) + '%'))"
   ]
  },
  {
   "cell_type": "markdown",
   "metadata": {},
   "source": [
    "## Latent Semantic Analysis using TF-IDF features and UMAP to reduce data dimension"
   ]
  },
  {
   "cell_type": "code",
   "execution_count": 9,
   "metadata": {},
   "outputs": [
    {
     "name": "stderr",
     "output_type": "stream",
     "text": [
      "/home/bml_casp15/anaconda3/envs/8735/lib/python3.6/site-packages/numba/np/ufunc/parallel.py:363: NumbaWarning: The TBB threading layer requires TBB version 2019.5 or later i.e., TBB_INTERFACE_VERSION >= 11005. Found TBB_INTERFACE_VERSION = 10002. The TBB threading layer is disabled.\n",
      "  warnings.warn(problem)\n"
     ]
    },
    {
     "name": "stdout",
     "output_type": "stream",
     "text": [
      "UMAP dimension: 400, Accuracy: 27.00563217881059%\n",
      "UMAP dimension: 800, Accuracy: 22.71054148742738%\n",
      "UMAP dimension: 1200, Accuracy: 21.915606013570446%\n",
      "UMAP dimension: 1600, Accuracy: 22.505432613419664%\n",
      "UMAP dimension: 2000, Accuracy: 21.883453811698967%\n"
     ]
    }
   ],
   "source": [
    "import umap\n",
    "\n",
    "dimensions = [400, 800, 1200, 1600, 2000]\n",
    "for dimension in dimensions:\n",
    "    reducer = umap.UMAP(random_state=42, n_components=dimension)\n",
    "    embedding = reducer.fit_transform(tfid_test_features)\n",
    "    tsvd = TruncatedSVD(n_components=200)\n",
    "    tsvd.fit(embedding)\n",
    "    tsvd_mat = tsvd.transform(embedding)\n",
    "    km = KMeans(n_clusters=4, n_init=50, max_iter=1000) # Instantiate KMeans clustering\n",
    "    km.fit(tsvd_mat) # Run KMeans clustering\n",
    "    acc = metrics.accuracy_score(test_labels, km.labels_)\n",
    "    print('UMAP dimension: {}, Accuracy: {}'.format(str(dimension), str(acc * 100) + '%'))\n",
    "    \n",
    "# plt.scatter(\n",
    "#     embedding[:, 0],\n",
    "#     embedding[:, 1],\n",
    "#     c=training_labels)\n",
    "# plt.gca().set_aspect('equal', 'datalim')\n",
    "# plt.title('UMAP projection of the dataset', fontsize=24);"
   ]
  }
 ],
 "metadata": {
  "kernelspec": {
   "display_name": "Python 3.6.13 ('8735': conda)",
   "language": "python",
   "name": "python3"
  },
  "language_info": {
   "codemirror_mode": {
    "name": "ipython",
    "version": 3
   },
   "file_extension": ".py",
   "mimetype": "text/x-python",
   "name": "python",
   "nbconvert_exporter": "python",
   "pygments_lexer": "ipython3",
   "version": "3.6.13"
  },
  "vscode": {
   "interpreter": {
    "hash": "b8e7f560840f4c6268b22f45d88b1a7cf9d38d18a49f84638f659e96b6687c7b"
   }
  }
 },
 "nbformat": 4,
 "nbformat_minor": 2
}
